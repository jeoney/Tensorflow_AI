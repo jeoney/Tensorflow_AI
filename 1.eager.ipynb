{
 "cells": [
  {
   "cell_type": "markdown",
   "metadata": {
    "id": "2QQJJyDzqGRb"
   },
   "source": [
    "# 1. Eager execution"
   ]
  },
  {
   "cell_type": "markdown",
   "metadata": {
    "id": "EGjDcGxIqEfX"
   },
   "source": [
    "텐서플로의 즉시 실행은 그래프를 생성하지 않고 함수를 바로 실행하는 명령형 프로그래밍 환경입니다.\n",
    "나중에 실행하기 위해 계산가능한 그래프를 생성하는 대신에 계산값을 즉시 알려주는 연산입니다.\n",
    "이러한 기능은 텐서플로를 시작하고 모델을 디버깅하는 것을 더욱 쉽게 만들고 불필요한 상용구 코드(boilerplate code) 작성을 줄여줍니다.\n",
    "가이드를 따라하려면, 대화형 `파이썬` 해석기(interpreter)를 이용해 아래에 있는 코드 샘플을 실행하세요.\n",
    "\n",
    "즉시 실행은 연구와 실험을 위한 유연한 기계학습 플랫폼으로 다음과 같은 기능을 제공합니다:\n",
    "\n",
    "* *직관적인 인터페이스*-코드를 자연스럽게 구조화하고 파이썬의 데이터 구조를 활용. 작은 모델과 작은 데이터를 빠르게 반복\n",
    "* *손쉬운 디버깅*-실행중인 모델을 검토하거나 변경 사항을 테스트해보기 위해서 연산을 직접 호출. 에러 확인을 위해서 표준 파이썬 디버깅 툴을 사용\n",
    "* *자연스런 흐름 제어*-그래프 제어 흐름 대신에 파이썬 제어 흐름을 사용함으로써 동적인 모델 구조의 단순화\n",
    "\n",
    "즉시 실행은 대부분의 텐서플로 연산과 GPU 가속을 지원합니다."
   ]
  },
  {
   "cell_type": "markdown",
   "metadata": {
    "id": "RBAeIwOMrYk8"
   },
   "source": [
    "## 기본 사용법"
   ]
  },
  {
   "cell_type": "code",
   "execution_count": 4,
   "metadata": {
    "execution": {
     "iopub.execute_input": "2020-09-23T03:59:31.048532Z",
     "iopub.status.busy": "2020-09-23T03:59:31.047855Z",
     "iopub.status.idle": "2020-09-23T03:59:37.294977Z",
     "shell.execute_reply": "2020-09-23T03:59:37.294230Z"
    },
    "id": "ByNsp4VqqEfa"
   },
   "outputs": [],
   "source": [
    "import tensorflow as tf"
   ]
  },
  {
   "cell_type": "code",
   "execution_count": 5,
   "metadata": {},
   "outputs": [],
   "source": [
    "import logging    # 경고 출력 금지\n",
    "logging.getLogger('tensorflow').disabled = True"
   ]
  },
  {
   "cell_type": "markdown",
   "metadata": {
    "id": "48P3-8q4qEfe"
   },
   "source": [
    "텐서플로 2.0에서 즉시 실행은 기본으로 활성화되어 있습니다."
   ]
  },
  {
   "cell_type": "code",
   "execution_count": 6,
   "metadata": {
    "execution": {
     "iopub.execute_input": "2020-09-23T03:59:37.305190Z",
     "iopub.status.busy": "2020-09-23T03:59:37.304410Z",
     "iopub.status.idle": "2020-09-23T03:59:37.309473Z",
     "shell.execute_reply": "2020-09-23T03:59:37.309999Z"
    },
    "id": "7aFsD8csqEff"
   },
   "outputs": [
    {
     "data": {
      "text/plain": [
       "True"
      ]
     },
     "execution_count": 6,
     "metadata": {},
     "output_type": "execute_result"
    }
   ],
   "source": [
    "tf.executing_eagerly()"
   ]
  },
  {
   "cell_type": "markdown",
   "metadata": {
    "id": "x_G1zZT5qEfh"
   },
   "source": [
    "이제부터는 텐서플로 연산을 바로 실행할 수 있고 결과를 즉시 확인할 수 있습니다:"
   ]
  },
  {
   "cell_type": "code",
   "execution_count": 7,
   "metadata": {
    "execution": {
     "iopub.execute_input": "2020-09-23T03:59:38.698968Z",
     "iopub.status.busy": "2020-09-23T03:59:38.698197Z",
     "iopub.status.idle": "2020-09-23T03:59:39.251112Z",
     "shell.execute_reply": "2020-09-23T03:59:39.251644Z"
    },
    "id": "9gsI54pbqEfj"
   },
   "outputs": [
    {
     "name": "stdout",
     "output_type": "stream",
     "text": [
      "hello, [[11]]\n"
     ]
    }
   ],
   "source": [
    "x = [[1,2]]\n",
    "y = [[3],[4]]\n",
    "m = tf.matmul(x, y)\n",
    "print(\"hello, {}\".format(m))"
   ]
  },
  {
   "cell_type": "markdown",
   "metadata": {
    "id": "ajFn6qsdqEfl"
   },
   "source": [
    "즉시 실행 활성화는 텐서플로 연산을 바로 평가하고 그 결과를 파이썬에게 알려주는 방식으로 동작을 변경합니다.\n",
    "`tf.Tensor` 객체는 계산 그래프에 있는 노드를 가르키는 간접 핸들(symbolic handle) 대신에 구체적인 값을 참조합니다.\n",
    "나중에 실행하기 위해서 생성된 계산 그래프가 없기 때문에, `print()`나 디버거를 통해서 결과를 검토하기 쉽습니다.\n",
    "텐서값을 평가, 출력하거나 확인하는 것이 그래디언트(gradients)를 계산하는 흐름을 방해하지 않습니다.\n",
    "\n",
    "즉시 실행은 [NumPy](http://www.numpy.org/)와 같이 잘 작동됩니다.\n",
    "NumPy 연산에 `tf.Tensor`를 매개변수로 사용가능합니다.\n",
    "텐서플로 [수학 연산](https://www.tensorflow.org/api_guides/python/math_ops)은 파이썬 객체와 NumPy 배열을 `tf.Tensor` 객체로 변환합니다.\n",
    "`tf.Tensor.numpy` 메서드는 객체 값을 NumPy `ndarray`로 반환합니다."
   ]
  },
  {
   "cell_type": "code",
   "execution_count": 8,
   "metadata": {
    "execution": {
     "iopub.execute_input": "2020-09-23T03:59:39.256679Z",
     "iopub.status.busy": "2020-09-23T03:59:39.256019Z",
     "iopub.status.idle": "2020-09-23T03:59:39.258138Z",
     "shell.execute_reply": "2020-09-23T03:59:39.258666Z"
    },
    "id": "sTO0_5TYqz1n"
   },
   "outputs": [
    {
     "name": "stdout",
     "output_type": "stream",
     "text": [
      "tf.Tensor(\n",
      "[[1 2]\n",
      " [3 4]], shape=(2, 2), dtype=int32)\n"
     ]
    }
   ],
   "source": [
    "a = tf.constant([[1, 2],\n",
    "                 [3, 4]])\n",
    "print(a)"
   ]
  },
  {
   "cell_type": "code",
   "execution_count": 9,
   "metadata": {
    "execution": {
     "iopub.execute_input": "2020-09-23T03:59:39.263117Z",
     "iopub.status.busy": "2020-09-23T03:59:39.262447Z",
     "iopub.status.idle": "2020-09-23T03:59:39.264713Z",
     "shell.execute_reply": "2020-09-23T03:59:39.265229Z"
    },
    "id": "Dp14YT8Gq4r1"
   },
   "outputs": [
    {
     "name": "stdout",
     "output_type": "stream",
     "text": [
      "tf.Tensor(\n",
      "[[2 3]\n",
      " [4 5]], shape=(2, 2), dtype=int32)\n"
     ]
    }
   ],
   "source": [
    "# 브로드캐스팅(Broadcasting) 지원\n",
    "b = tf.add(a, 1)\n",
    "print(b)"
   ]
  },
  {
   "cell_type": "code",
   "execution_count": 10,
   "metadata": {
    "execution": {
     "iopub.execute_input": "2020-09-23T03:59:39.268806Z",
     "iopub.status.busy": "2020-09-23T03:59:39.268115Z",
     "iopub.status.idle": "2020-09-23T03:59:39.270726Z",
     "shell.execute_reply": "2020-09-23T03:59:39.271140Z"
    },
    "id": "69p3waMfq8cQ"
   },
   "outputs": [
    {
     "name": "stdout",
     "output_type": "stream",
     "text": [
      "tf.Tensor(\n",
      "[[ 2  6]\n",
      " [12 20]], shape=(2, 2), dtype=int32)\n"
     ]
    }
   ],
   "source": [
    "# 연산자 오버로딩 지원\n",
    "print(a * b)"
   ]
  },
  {
   "cell_type": "code",
   "execution_count": 11,
   "metadata": {
    "execution": {
     "iopub.execute_input": "2020-09-23T03:59:39.275936Z",
     "iopub.status.busy": "2020-09-23T03:59:39.274812Z",
     "iopub.status.idle": "2020-09-23T03:59:39.277674Z",
     "shell.execute_reply": "2020-09-23T03:59:39.278177Z"
    },
    "id": "Ui025t1qqEfm"
   },
   "outputs": [
    {
     "name": "stdout",
     "output_type": "stream",
     "text": [
      "[[ 2  6]\n",
      " [12 20]]\n"
     ]
    }
   ],
   "source": [
    "# NumPy값 사용\n",
    "import numpy as np\n",
    "\n",
    "c = np.multiply(a, b)\n",
    "print(c)"
   ]
  },
  {
   "cell_type": "code",
   "execution_count": 12,
   "metadata": {
    "execution": {
     "iopub.execute_input": "2020-09-23T03:59:39.282373Z",
     "iopub.status.busy": "2020-09-23T03:59:39.281648Z",
     "iopub.status.idle": "2020-09-23T03:59:39.284788Z",
     "shell.execute_reply": "2020-09-23T03:59:39.284218Z"
    },
    "id": "Tq_aFRzWrCua"
   },
   "outputs": [
    {
     "name": "stdout",
     "output_type": "stream",
     "text": [
      "[[1 2]\n",
      " [3 4]]\n"
     ]
    }
   ],
   "source": [
    "# 텐서로부터 numpy 값 얻기:\n",
    "print(a.numpy())"
   ]
  },
  {
   "cell_type": "markdown",
   "metadata": {
    "id": "H08f9ss9qEft"
   },
   "source": [
    "## 동적인 제어 흐름\n",
    "\n",
    "즉시 실행의 가장 큰 이점은 모델을 실행하는 동안에도 호스트 언어의 모든 기능을 활용할 수 있다는 것입니다.\n",
    "그래서 다음과 같이 [fizzbuzz](https://en.wikipedia.org/wiki/Fizz_buzz)를 손쉽게 작성할 수 있습니다:"
   ]
  },
  {
   "cell_type": "code",
   "execution_count": 13,
   "metadata": {
    "execution": {
     "iopub.execute_input": "2020-09-23T03:59:39.291165Z",
     "iopub.status.busy": "2020-09-23T03:59:39.290270Z",
     "iopub.status.idle": "2020-09-23T03:59:39.292437Z",
     "shell.execute_reply": "2020-09-23T03:59:39.292840Z"
    },
    "id": "0fudRMeUqEfu"
   },
   "outputs": [],
   "source": [
    "def fizzbuzz(max_num):\n",
    "  counter = tf.constant(0)\n",
    "  max_num = tf.convert_to_tensor(max_num)\n",
    "  for num in range(1, max_num.numpy()+1):\n",
    "    num = tf.constant(num)\n",
    "    if int(num % 3) == 0 and int(num % 5) == 0:\n",
    "      print('FizzBuzz')\n",
    "    elif int(num % 3) == 0:\n",
    "      print('Fizz')\n",
    "    elif int(num % 5) == 0:\n",
    "      print('Buzz')\n",
    "    else:\n",
    "      print(num.numpy())\n",
    "    counter += 1"
   ]
  },
  {
   "cell_type": "code",
   "execution_count": 14,
   "metadata": {
    "execution": {
     "iopub.execute_input": "2020-09-23T03:59:39.297390Z",
     "iopub.status.busy": "2020-09-23T03:59:39.296391Z",
     "iopub.status.idle": "2020-09-23T03:59:39.303403Z",
     "shell.execute_reply": "2020-09-23T03:59:39.303849Z"
    },
    "id": "P2cKknQWrJLB"
   },
   "outputs": [
    {
     "name": "stdout",
     "output_type": "stream",
     "text": [
      "1\n",
      "2\n",
      "Fizz\n",
      "4\n",
      "Buzz\n",
      "Fizz\n",
      "7\n",
      "8\n",
      "Fizz\n",
      "Buzz\n",
      "11\n",
      "Fizz\n",
      "13\n",
      "14\n",
      "FizzBuzz\n"
     ]
    }
   ],
   "source": [
    "fizzbuzz(15)"
   ]
  },
  {
   "cell_type": "markdown",
   "metadata": {
    "id": "7kA-aC3BqEfy"
   },
   "source": [
    "여기에 텐서값에 따른 조건절이 있고 실행중에 그 결과를 출력합니다."
   ]
  },
  {
   "cell_type": "markdown",
   "metadata": {
    "id": "8huKpuuAwICq"
   },
   "source": [
    "## 즉시 훈련"
   ]
  },
  {
   "cell_type": "markdown",
   "metadata": {
    "id": "mp2lCCZYrxHd"
   },
   "source": [
    "### 그래디언트 계산하기\n",
    "\n",
    "[자동 미분](https://en.wikipedia.org/wiki/Automatic_differentiation)은 인공 신경망 훈련을 위한\n",
    "[역전파](https://en.wikipedia.org/wiki/Backpropagation)와 같은 기계학습 알고리즘을 구현하는데 유용합니다.\n",
    "즉시 실행을 사용하는 동안에는, 나중에 그래디언트를 계산하는 연산을 추적하기 위해 `tf.GradientTape`을 사용하세요.\n",
    "\n",
    "즉시 실행 중에 그래디언트를 계산하고 모델 훈련에 이용하기 위해서 `tf.GradientTape`을 사용할 수 있습니다.\n",
    "특히 복잡하고 반복적인 훈련인 경우에 더 유용합니다.\n",
    "\n",
    "매번 실행될 때 서로 다른 연산이 수행될 수 있기 때문에 모든 정방향(forward-pass) 연산은 \"tape\"에 기록됩니다.\n",
    "그다음 tape를 거꾸로 돌려 그래디언트를 계산한 후 tape를 폐기합니다.\n",
    "특정한 `tf.GradientTape`는 오직 하나의 그래디언트만을 계산할 수 있고 부가적인 호출은 실행중 에러(runtime error)를 발생시킵니다."
   ]
  },
  {
   "cell_type": "code",
   "execution_count": 15,
   "metadata": {
    "execution": {
     "iopub.execute_input": "2020-09-23T03:59:39.309068Z",
     "iopub.status.busy": "2020-09-23T03:59:39.308078Z",
     "iopub.status.idle": "2020-09-23T03:59:39.329041Z",
     "shell.execute_reply": "2020-09-23T03:59:39.328440Z"
    },
    "id": "7g1yWiSXqEf-"
   },
   "outputs": [
    {
     "name": "stdout",
     "output_type": "stream",
     "text": [
      "tf.Tensor([[2.]], shape=(1, 1), dtype=float32)\n"
     ]
    }
   ],
   "source": [
    "w = tf.Variable([[1.0]])\n",
    "with tf.GradientTape() as tape:\n",
    "  loss = w * w\n",
    "\n",
    "grad = tape.gradient(loss, w)\n",
    "print(grad)  "
   ]
  },
  {
   "cell_type": "markdown",
   "metadata": {
    "id": "vkHs32GqweYS"
   },
   "source": [
    "### 모델 훈련\n",
    "\n",
    "다음 예는 표준 MNIST 손글씨 분류를 위한 다층 모델을 생성합니다.\n",
    "즉시 실행 환경에서 훈련가능한 그래프를 생성하기 위한 옵티마이저(optimizer)와 층 API를 보여줍니다."
   ]
  },
  {
   "cell_type": "code",
   "execution_count": 16,
   "metadata": {
    "execution": {
     "iopub.execute_input": "2020-09-23T03:59:39.334676Z",
     "iopub.status.busy": "2020-09-23T03:59:39.333690Z",
     "iopub.status.idle": "2020-09-23T03:59:40.857694Z",
     "shell.execute_reply": "2020-09-23T03:59:40.856962Z"
    },
    "id": "38kymXZowhhz"
   },
   "outputs": [],
   "source": [
    "# mnist 데이터 가져오기 및 포맷 맞추기\n",
    "(mnist_images, mnist_labels), _ = tf.keras.datasets.mnist.load_data()\n",
    "\n",
    "dataset = tf.data.Dataset.from_tensor_slices(\n",
    "  (tf.cast(mnist_images[...,tf.newaxis]/255, tf.float32),\n",
    "   tf.cast(mnist_labels,tf.int64)))\n",
    "dataset = dataset.shuffle(1000).batch(32)"
   ]
  },
  {
   "cell_type": "code",
   "execution_count": 17,
   "metadata": {
    "execution": {
     "iopub.execute_input": "2020-09-23T03:59:40.868253Z",
     "iopub.status.busy": "2020-09-23T03:59:40.862895Z",
     "iopub.status.idle": "2020-09-23T03:59:40.912047Z",
     "shell.execute_reply": "2020-09-23T03:59:40.911414Z"
    },
    "id": "rl1K8rOowmwT"
   },
   "outputs": [],
   "source": [
    "# 모델 생성\n",
    "mnist_model = tf.keras.Sequential([\n",
    "  tf.keras.layers.Conv2D(16,[3,3], activation='relu',\n",
    "                         input_shape=(None, None, 1)),\n",
    "  tf.keras.layers.Conv2D(16,[3,3], activation='relu'),\n",
    "  tf.keras.layers.GlobalAveragePooling2D(),\n",
    "  tf.keras.layers.Dense(10)\n",
    "])"
   ]
  },
  {
   "cell_type": "markdown",
   "metadata": {
    "id": "fvyk-HgGwxwl"
   },
   "source": [
    "즉시 실행에서는 훈련을 하지 않아도 모델을 사용하고 결과를 점검할 수 있습니다:"
   ]
  },
  {
   "cell_type": "code",
   "execution_count": 18,
   "metadata": {
    "execution": {
     "iopub.execute_input": "2020-09-23T03:59:40.917832Z",
     "iopub.status.busy": "2020-09-23T03:59:40.916908Z",
     "iopub.status.idle": "2020-09-23T03:59:42.449471Z",
     "shell.execute_reply": "2020-09-23T03:59:42.448821Z"
    },
    "id": "BsxystjBwxLS"
   },
   "outputs": [
    {
     "name": "stdout",
     "output_type": "stream",
     "text": [
      "로짓:  [[-0.00309802 -0.00779656  0.00642204 -0.02162785  0.02082167  0.03030453\n",
      "  -0.01756391  0.00902968  0.01723027 -0.01375335]]\n"
     ]
    }
   ],
   "source": [
    "for images,labels in dataset.take(1):\n",
    "  print(\"로짓: \", mnist_model(images[0:1]).numpy())"
   ]
  },
  {
   "cell_type": "markdown",
   "metadata": {
    "id": "Y3PGa8G7qEgB"
   },
   "source": [
    "케라스 모델은 자체적인 훈련 메서드(fit)을 포함하고 있지만 때로는 좀 더 수정할 필요가 있습니다.\n",
    "다음은 즉시 실행을 활용한 반복적인 훈련의 예입니다:"
   ]
  },
  {
   "cell_type": "code",
   "execution_count": 19,
   "metadata": {
    "execution": {
     "iopub.execute_input": "2020-09-23T03:59:42.455511Z",
     "iopub.status.busy": "2020-09-23T03:59:42.454528Z",
     "iopub.status.idle": "2020-09-23T03:59:42.457120Z",
     "shell.execute_reply": "2020-09-23T03:59:42.456507Z"
    },
    "id": "bzRhM7JDnaEG"
   },
   "outputs": [],
   "source": [
    "optimizer = tf.keras.optimizers.Adam()\n",
    "loss_object = tf.keras.losses.SparseCategoricalCrossentropy(from_logits=True)\n",
    "\n",
    "loss_history = []"
   ]
  },
  {
   "cell_type": "markdown",
   "metadata": {
    "id": "tXaupYXRI2YM"
   },
   "source": [
    "Note: 조건을 만족했는지 확인하기 위해서 `tf.debugging`에 있는 단언문(assert) 함수를 사용하세요. 이것은 즉시 실행과 그래프 실행 모두에서 동작합니다."
   ]
  },
  {
   "cell_type": "code",
   "execution_count": 27,
   "metadata": {
    "execution": {
     "iopub.execute_input": "2020-09-23T03:59:42.463376Z",
     "iopub.status.busy": "2020-09-23T03:59:42.462447Z",
     "iopub.status.idle": "2020-09-23T03:59:42.465113Z",
     "shell.execute_reply": "2020-09-23T03:59:42.464509Z"
    },
    "id": "DDHrigtiCIA4"
   },
   "outputs": [],
   "source": [
    "def train_step(images, labels):\n",
    "  with tf.GradientTape() as tape:\n",
    "    logits = mnist_model(images, training=True)\n",
    "    \n",
    "    # 결과의 형태를 확인하기 위해서 단언문 추가\n",
    "    tf.debugging.assert_equal(logits.shape, (32, 10))\n",
    "    \n",
    "    loss_value = loss_object(labels, logits)\n",
    "\n",
    "  loss_history.append(loss_value.numpy().mean())\n",
    "  grads = tape.gradient(loss_value, mnist_model.trainable_variables)\n",
    "  optimizer.apply_gradients(zip(grads, mnist_model.trainable_variables))"
   ]
  },
  {
   "cell_type": "code",
   "execution_count": 28,
   "metadata": {
    "execution": {
     "iopub.execute_input": "2020-09-23T03:59:42.470018Z",
     "iopub.status.busy": "2020-09-23T03:59:42.469094Z",
     "iopub.status.idle": "2020-09-23T03:59:42.471657Z",
     "shell.execute_reply": "2020-09-23T03:59:42.471060Z"
    },
    "id": "0m1xAXrmqEgJ"
   },
   "outputs": [],
   "source": [
    "def train():\n",
    "  for epoch in range(3):\n",
    "    for (batch, (images, labels)) in enumerate(dataset):\n",
    "      train_step(images, labels)\n",
    "    print ('에포크 {} 종료'.format(epoch))"
   ]
  },
  {
   "cell_type": "code",
   "execution_count": 29,
   "metadata": {
    "execution": {
     "iopub.execute_input": "2020-09-23T03:59:42.476255Z",
     "iopub.status.busy": "2020-09-23T03:59:42.475318Z",
     "iopub.status.idle": "2020-09-23T04:00:27.310191Z",
     "shell.execute_reply": "2020-09-23T04:00:27.309557Z"
    },
    "id": "C5dGz0p_nf4W"
   },
   "outputs": [
    {
     "name": "stdout",
     "output_type": "stream",
     "text": [
      "에포크 0 종료\n",
      "에포크 1 종료\n",
      "에포크 2 종료\n"
     ]
    }
   ],
   "source": [
    "train()"
   ]
  },
  {
   "cell_type": "code",
   "execution_count": 31,
   "metadata": {
    "execution": {
     "iopub.execute_input": "2020-09-23T04:00:27.314885Z",
     "iopub.status.busy": "2020-09-23T04:00:27.314218Z",
     "iopub.status.idle": "2020-09-23T04:00:27.628773Z",
     "shell.execute_reply": "2020-09-23T04:00:27.628152Z"
    },
    "id": "5vG5ql_2vYB5"
   },
   "outputs": [
    {
     "data": {
      "text/plain": [
       "Text(0, 0.5, 'Loss [entropy]')"
      ]
     },
     "execution_count": 31,
     "metadata": {},
     "output_type": "execute_result"
    },
    {
     "data": {
      "image/png": "[encoded data removed]",
      "text/plain": [
       "<Figure size 432x288 with 1 Axes>"
      ]
     },
     "metadata": {
      "needs_background": "light"
     },
     "output_type": "display_data"
    }
   ],
   "source": [
    "import matplotlib.pyplot as plt\n",
    "\n",
    "plt.plot(loss_history)\n",
    "plt.xlabel('Batch #')\n",
    "plt.ylabel('Loss [entropy]')"
   ]
  },
  {
   "cell_type": "markdown",
   "metadata": {
    "id": "kKpOlHPLqEgl"
   },
   "source": [
    "### 변수와 옵티마이저\n",
    "\n",
    "`tf.Variable` 객체는 자동 미분을 쉽게 하기 위해서 학습동안 변경된 `tf.Tensor` 값을 저장합니다.\n",
    "모델 파라미터는 클래스 인스턴스 변수로 캡슐화될 수 있습니다.\n",
    "\n",
    "효과적으로 모델 파라미터를 캡슐화하려면 `tf.Variable`을 `tf.GradientTape`과 함께 사용합니다.\n",
    "예를 들어, 위의 자동 미분은 다음과 같이 재작성 가능합니다:"
   ]
  },
  {
   "cell_type": "code",
   "execution_count": 32,
   "metadata": {
    "execution": {
     "iopub.execute_input": "2020-09-23T04:00:27.639762Z",
     "iopub.status.busy": "2020-09-23T04:00:27.639060Z",
     "iopub.status.idle": "2020-09-23T04:00:28.231933Z",
     "shell.execute_reply": "2020-09-23T04:00:28.231278Z"
    },
    "id": "nnQLBYmEqEgm"
   },
   "outputs": [
    {
     "name": "stdout",
     "output_type": "stream",
     "text": [
      "초기 손실: 68.411\n",
      "스텝 000에서 손실: 65.757\n",
      "스텝 020에서 손실: 30.008\n",
      "스텝 040에서 손실: 13.996\n",
      "스텝 060에서 손실: 6.824\n",
      "스텝 080에서 손실: 3.611\n",
      "스텝 100에서 손실: 2.171\n",
      "스텝 120에서 손실: 1.526\n",
      "스텝 140에서 손실: 1.237\n",
      "스텝 160에서 손실: 1.107\n",
      "스텝 180에서 손실: 1.049\n",
      "스텝 200에서 손실: 1.023\n",
      "스텝 220에서 손실: 1.011\n",
      "스텝 240에서 손실: 1.006\n",
      "스텝 260에서 손실: 1.004\n",
      "스텝 280에서 손실: 1.003\n",
      "최종 손실: 1.002\n",
      "W = 3.0058913230895996, B = 2.029695987701416\n"
     ]
    }
   ],
   "source": [
    "class Model(tf.keras.Model):\n",
    "  def __init__(self):\n",
    "    super(Model, self).__init__()\n",
    "    self.W = tf.Variable(5., name='weight')\n",
    "    self.B = tf.Variable(10., name='bias')\n",
    "  def call(self, inputs):\n",
    "    return inputs * self.W + self.B\n",
    "\n",
    "# 약 3 * x + 2개의 점으로 구성된 실험 데이터\n",
    "NUM_EXAMPLES = 2000\n",
    "training_inputs = tf.random.normal([NUM_EXAMPLES])\n",
    "noise = tf.random.normal([NUM_EXAMPLES])\n",
    "training_outputs = training_inputs * 3 + 2 + noise\n",
    "\n",
    "# 최적화할 손실함수\n",
    "def loss(model, inputs, targets):\n",
    "  error = model(inputs) - targets\n",
    "  return tf.reduce_mean(tf.square(error))\n",
    "\n",
    "def grad(model, inputs, targets):\n",
    "  with tf.GradientTape() as tape:\n",
    "    loss_value = loss(model, inputs, targets)\n",
    "  return tape.gradient(loss_value, [model.W, model.B])\n",
    "\n",
    "# 정의:\n",
    "# 1. 모델\n",
    "# 2. 모델 파라미터에 대한 손실 함수의 미분\n",
    "# 3. 미분에 기초한 변수 업데이트 전략\n",
    "model = Model()\n",
    "optimizer = tf.keras.optimizers.SGD(learning_rate=0.01)\n",
    "\n",
    "print(\"초기 손실: {:.3f}\".format(loss(model, training_inputs, training_outputs)))\n",
    "\n",
    "# 반복 훈련\n",
    "for i in range(300):\n",
    "  grads = grad(model, training_inputs, training_outputs)\n",
    "  optimizer.apply_gradients(zip(grads, [model.W, model.B]))\n",
    "  if i % 20 == 0:\n",
    "    print(\"스텝 {:03d}에서 손실: {:.3f}\".format(i, loss(model, training_inputs, training_outputs)))\n",
    "\n",
    "print(\"최종 손실: {:.3f}\".format(loss(model, training_inputs, training_outputs)))\n",
    "print(\"W = {}, B = {}\".format(model.W.numpy(), model.B.numpy()))"
   ]
  },
  {
   "cell_type": "markdown",
   "metadata": {
    "id": "rPjb8nRWqEgr"
   },
   "source": [
    "## 즉시 실행에서 상태를 위한 객체 사용\n",
    "\n",
    "텐서플로 1.x 그래프 실행에서, 프로그램 상태(예: 변수)는 전역 컬렉션에 저장되고 그 수명은 `tf.Session` 객체에 의해서 관리됩니다.\n",
    "반면에 즉시 실행에서 상태 객체 수명은 그와 관련된 파이썬 객체 수명에 의해서 결정됩니다.\n",
    "\n",
    "### 변수는 객체입니다\n",
    "\n",
    "즉시 실행에서 변수는 그 객체의 마지막 참조가 제거될 때까지 유지되고 그 이후 삭제됩니다."
   ]
  },
  {
   "cell_type": "code",
   "execution_count": 33,
   "metadata": {
    "execution": {
     "iopub.execute_input": "2020-09-23T04:00:28.237343Z",
     "iopub.status.busy": "2020-09-23T04:00:28.236642Z",
     "iopub.status.idle": "2020-09-23T04:00:28.240965Z",
     "shell.execute_reply": "2020-09-23T04:00:28.240450Z"
    },
    "id": "A2boS674qEgs"
   },
   "outputs": [],
   "source": [
    "v = tf.Variable(tf.random.normal([1000, 1000]))\n",
    "v = None  # v는 더이상 메모리를 사용하지 않음"
   ]
  },
  {
   "cell_type": "markdown",
   "metadata": {
    "id": "scMjg6L6qEgv"
   },
   "source": [
    "### 객체 기반의 저장\n",
    "\n",
    "`tf.train.Checkpoint`는 `tf.Variable`을 체크포인트 파일로 저장하거나 체크포인트 파일에서 복구할 수 있습니다:"
   ]
  },
  {
   "cell_type": "code",
   "execution_count": 34,
   "metadata": {
    "execution": {
     "iopub.execute_input": "2020-09-23T04:00:28.245170Z",
     "iopub.status.busy": "2020-09-23T04:00:28.244526Z",
     "iopub.status.idle": "2020-09-23T04:00:28.247748Z",
     "shell.execute_reply": "2020-09-23T04:00:28.247236Z"
    },
    "id": "7z5xRfdHzZOQ"
   },
   "outputs": [],
   "source": [
    "x = tf.Variable(10.)\n",
    "checkpoint = tf.train.Checkpoint(x=x)"
   ]
  },
  {
   "cell_type": "code",
   "execution_count": 35,
   "metadata": {
    "execution": {
     "iopub.execute_input": "2020-09-23T04:00:28.251947Z",
     "iopub.status.busy": "2020-09-23T04:00:28.251275Z",
     "iopub.status.idle": "2020-09-23T04:00:28.265904Z",
     "shell.execute_reply": "2020-09-23T04:00:28.265396Z"
    },
    "id": "IffrUVG7zyVb"
   },
   "outputs": [
    {
     "data": {
      "text/plain": [
       "'./ckpt/-1'"
      ]
     },
     "execution_count": 35,
     "metadata": {},
     "output_type": "execute_result"
    }
   ],
   "source": [
    "x.assign(2.)   # 변수에 새로운 값을 할당하고 저장\n",
    "checkpoint_path = './ckpt/'\n",
    "checkpoint.save('./ckpt/')"
   ]
  },
  {
   "cell_type": "code",
   "execution_count": 36,
   "metadata": {
    "execution": {
     "iopub.execute_input": "2020-09-23T04:00:28.269949Z",
     "iopub.status.busy": "2020-09-23T04:00:28.269210Z",
     "iopub.status.idle": "2020-09-23T04:00:28.276137Z",
     "shell.execute_reply": "2020-09-23T04:00:28.276566Z"
    },
    "id": "eMT9koCoqEgw"
   },
   "outputs": [
    {
     "name": "stdout",
     "output_type": "stream",
     "text": [
      "<tf.Variable 'Variable:0' shape=() dtype=float32, numpy=2.0>\n"
     ]
    }
   ],
   "source": [
    "x.assign(11.)  # 저장한 후에 변수 변경\n",
    "\n",
    "# 체크포인트로부터 값을 복구\n",
    "checkpoint.restore(tf.train.latest_checkpoint(checkpoint_path))\n",
    "\n",
    "print(x)  "
   ]
  },
  {
   "cell_type": "markdown",
   "metadata": {
    "id": "vbFnP-yLqEgx"
   },
   "source": [
    "모델을 저장하거나 읽어들이기 위해서, `tf.train.Checkpoint`는 숨겨진 변수를 요구하지 않고 객체 내부 상태를 저장합니다. \n",
    "`옵티마이저`와 `모델`, 전역 단계 상태를 기록하려면 `tf.train.Checkpoint`에 전달하면 됩니다:"
   ]
  },
  {
   "cell_type": "code",
   "execution_count": 37,
   "metadata": {
    "execution": {
     "iopub.execute_input": "2020-09-23T04:00:28.287790Z",
     "iopub.status.busy": "2020-09-23T04:00:28.287126Z",
     "iopub.status.idle": "2020-09-23T04:00:28.302487Z",
     "shell.execute_reply": "2020-09-23T04:00:28.301913Z"
    },
    "id": "hWZHyAXMqEg0"
   },
   "outputs": [
    {
     "data": {
      "text/plain": [
       "<tensorflow.python.training.tracking.util.CheckpointLoadStatus at 0x1b33ba8b250>"
      ]
     },
     "execution_count": 37,
     "metadata": {},
     "output_type": "execute_result"
    }
   ],
   "source": [
    "import os\n",
    "\n",
    "model = tf.keras.Sequential([\n",
    "  tf.keras.layers.Conv2D(16,[3,3], activation='relu'),\n",
    "  tf.keras.layers.GlobalAveragePooling2D(),\n",
    "  tf.keras.layers.Dense(10)\n",
    "])\n",
    "optimizer = tf.keras.optimizers.Adam(learning_rate=0.001)\n",
    "checkpoint_dir = 'path/to/model_dir'\n",
    "if not os.path.exists(checkpoint_dir):\n",
    "  os.makedirs(checkpoint_dir)\n",
    "checkpoint_prefix = os.path.join(checkpoint_dir, \"ckpt\")\n",
    "root = tf.train.Checkpoint(optimizer=optimizer,\n",
    "                           model=model)\n",
    "\n",
    "root.save(checkpoint_prefix)\n",
    "root.restore(tf.train.latest_checkpoint(checkpoint_dir))"
   ]
  },
  {
   "cell_type": "markdown",
   "metadata": {
    "id": "R-ITwkBCF6GJ"
   },
   "source": [
    "Note: 대부분의 반복 훈련 과정에서 변수는 `tf.train.Checkpoint.restore`가 호출된 이후에 생성됩니다.\n",
    "이러한 변수는 생성되자마자 복원될 것이므로 단언문을 통해 체크포인트가 완벽히 적재되었다는 것을 보장받을 수 있습니다."
   ]
  },
  {
   "cell_type": "markdown",
   "metadata": {
    "id": "3yoD0VJ7qEg3"
   },
   "source": [
    "### 객체 지향형 지표\n",
    "\n",
    "`tf.keras.metrics`는 객체로 저장됩니다.\n",
    "새로운 데이터를 이 객체에 전달하여 지표를 수정하고 `tf.keras.metrics.result` 메서드를 사용해 그 결과를 얻습니다.\n",
    "예를 들어:"
   ]
  },
  {
   "cell_type": "code",
   "execution_count": 38,
   "metadata": {
    "execution": {
     "iopub.execute_input": "2020-09-23T04:00:28.313492Z",
     "iopub.status.busy": "2020-09-23T04:00:28.312877Z",
     "iopub.status.idle": "2020-09-23T04:00:28.325715Z",
     "shell.execute_reply": "2020-09-23T04:00:28.326123Z"
    },
    "id": "9ccu0iAaqEg5"
   },
   "outputs": [
    {
     "name": "stdout",
     "output_type": "stream",
     "text": [
      "tf.Tensor(2.5, shape=(), dtype=float32)\n",
      "tf.Tensor(5.5, shape=(), dtype=float32)\n"
     ]
    }
   ],
   "source": [
    "m = tf.keras.metrics.Mean(\"loss\")\n",
    "m(0)\n",
    "m(5)\n",
    "print(m.result())\n",
    "\n",
    "m([8, 9])\n",
    "print(m.result())"
   ]
  },
  {
   "cell_type": "markdown",
   "metadata": {
    "id": "aB8qWtT955pI"
   },
   "source": [
    "### 서머리(summary)와 텐서보드\n",
    "\n",
    "[텐서보드](https://tensorflow.org/tensorboard)는 훈련과정에서 모델을 파악하거나 디버깅하고 최적화하기 위해 사용하는 시각화 도구입니다.\n",
    "텐서보드는 프로그램이 실행되는 동안 작성된 서머리 이벤트를 사용합니다.\n",
    "\n",
    "즉시 실행에서 변수의 서머리 정보를 기록하기 위해서 `tf.summary`를 사용합니다.\n",
    "예를 들어, 다음은 매 100번째 훈련마다 `loss`의 서머리 정보를 기록합니다:"
   ]
  },
  {
   "cell_type": "code",
   "execution_count": 39,
   "metadata": {
    "execution": {
     "iopub.execute_input": "2020-09-23T04:00:28.331561Z",
     "iopub.status.busy": "2020-09-23T04:00:28.330900Z",
     "iopub.status.idle": "2020-09-23T04:00:28.340741Z",
     "shell.execute_reply": "2020-09-23T04:00:28.340245Z"
    },
    "id": "z6VInqhA6RH4"
   },
   "outputs": [],
   "source": [
    "logdir = \"./tb/\"\n",
    "writer = tf.summary.create_file_writer(logdir)\n",
    "\n",
    "with writer.as_default():  # 또는 반복 전에 writer.set_as_default()를 호출\n",
    "  for i in range(1000):\n",
    "    step = i + 1\n",
    "    # 실제 훈련 함수로 손실을 계산\n",
    "    loss = 1 - 0.001 * step\n",
    "    if step % 100 == 0:\n",
    "      tf.summary.scalar('손실', loss, step=step)"
   ]
  },
  {
   "cell_type": "code",
   "execution_count": 40,
   "metadata": {
    "execution": {
     "iopub.execute_input": "2020-09-23T04:00:28.344897Z",
     "iopub.status.busy": "2020-09-23T04:00:28.344263Z",
     "iopub.status.idle": "2020-09-23T04:00:28.499727Z",
     "shell.execute_reply": "2020-09-23T04:00:28.498969Z"
    },
    "id": "08QQD2j36TaI"
   },
   "outputs": [
    {
     "name": "stdout",
     "output_type": "stream",
     "text": [
      " F 드라이브의 볼륨: 새 볼륨\n",
      " 볼륨 일련 번호: 2E0F-004F\n",
      "\n",
      " F:\\텐서플로우_수업자료\\실습소스\\tb 디렉터리\n",
      "\n",
      "2021-03-20  오후 04:45    <DIR>          .\n",
      "2021-03-20  오후 04:45    <DIR>          ..\n",
      "2021-03-20  오후 04:25               689 events.out.tfevents.1616225127.DESKTOP-GA61A0D.18300.12448.v2\n",
      "2021-03-20  오후 04:45               689 events.out.tfevents.1616226330.DESKTOP-GA61A0D.20776.636574.v2\n",
      "               2개 파일               1,378 바이트\n",
      "               2개 디렉터리  620,937,502,720 바이트 남음\n"
     ]
    }
   ],
   "source": [
    "!dir tb"
   ]
  },
  {
   "cell_type": "markdown",
   "metadata": {
    "id": "rnZXjfQzqEhV"
   },
   "source": [
    "## 성능\n",
    "\n",
    "즉시 실행에서 계산은 자동으로 GPU로 분배됩니다.\n",
    "만약 계산 분배를 사용자가 제어하고 싶다면 그 부분을 `tf.device('/gpu:0')` 블록 (또는 CPU도 동일)으로 감싸서 실행하세요:"
   ]
  },
  {
   "cell_type": "code",
   "execution_count": 41,
   "metadata": {
    "execution": {
     "iopub.execute_input": "2020-09-23T04:00:28.570208Z",
     "iopub.status.busy": "2020-09-23T04:00:28.569217Z",
     "iopub.status.idle": "2020-09-23T04:00:29.674986Z",
     "shell.execute_reply": "2020-09-23T04:00:29.675410Z"
    },
    "id": "Ac9Y64H-qEhX"
   },
   "outputs": [
    {
     "name": "stdout",
     "output_type": "stream",
     "text": [
      "(1000, 1000) 크기 행렬을 자기 자신과 200번 곱했을 때 걸리는 시간:\n",
      "CPU: 0.5993199348449707 초\n",
      "GPU: 0.02000570297241211 초\n"
     ]
    }
   ],
   "source": [
    "import time\n",
    "\n",
    "def measure(x, steps):\n",
    "  # 텐서플로는 처음 사용할 때 GPU를 초기화, 시간계산에서 제외\n",
    "  tf.matmul(x, x)\n",
    "  start = time.time()\n",
    "  for i in range(steps):\n",
    "    x = tf.matmul(x, x)\n",
    "  # tf.matmul는 행렬 곱셈을 완료하기 전에 결과를 반환할 수 있습니다\n",
    "  # (예, CUDA 스트림 대기열에 연산을 추가한 후에 결과를 반환할 수 있다).\n",
    "  # 아래 x.numpy() 호출은 대기열에 추가된 모든 연산이 완료될 것임을 보장합니다\n",
    "  # (그리고 그 결과가 호스트 메모리에 복사될 것이고,\n",
    "  # 그래서 matmul 연산시간보다는 조금 많은 연산시간이\n",
    "  # 포함됩니다).\n",
    "  _ = x.numpy()\n",
    "  end = time.time()\n",
    "  return end - start\n",
    "\n",
    "shape = (1000, 1000)\n",
    "steps = 200\n",
    "print(\"{} 크기 행렬을 자기 자신과 {}번 곱했을 때 걸리는 시간:\".format(shape, steps))\n",
    "\n",
    "# CPU에서 실행:\n",
    "with tf.device(\"/cpu:0\"):\n",
    "  print(\"CPU: {} 초\".format(measure(tf.random.normal(shape), steps)))\n",
    "\n",
    "# GPU에서 실행, 가능하다면:\n",
    "if tf.config.experimental.list_physical_devices(\"GPU\"):\n",
    "  with tf.device(\"/gpu:0\"):\n",
    "    print(\"GPU: {} 초\".format(measure(tf.random.normal(shape), steps)))\n",
    "else:\n",
    "  print(\"GPU: 없음\")"
   ]
  },
  {
   "cell_type": "markdown",
   "metadata": {
    "id": "RLw3IS7UqEhe"
   },
   "source": [
    "`tf.Tensor` 객체는 실제로 그 연산을 수행할 다른 디바이스로 복사될 수 있습니다:"
   ]
  },
  {
   "cell_type": "code",
   "execution_count": 43,
   "metadata": {
    "execution": {
     "iopub.execute_input": "2020-09-23T04:00:29.681299Z",
     "iopub.status.busy": "2020-09-23T04:00:29.680414Z",
     "iopub.status.idle": "2020-09-23T04:00:29.685525Z",
     "shell.execute_reply": "2020-09-23T04:00:29.685025Z"
    },
    "id": "ny6LX2BVqEhf"
   },
   "outputs": [],
   "source": [
    "if tf.config.experimental.list_physical_devices(\"GPU\"):\n",
    "  x = tf.random.normal([10, 10])\n",
    "\n",
    "  x_gpu0 = x.gpu()\n",
    "  x_cpu = x.cpu()\n",
    "\n",
    "  _ = tf.matmul(x_cpu, x_cpu)    # CPU에서 실행\n",
    "  _ = tf.matmul(x_gpu0, x_gpu0)  # GPU:0에서 실행"
   ]
  }
 ],
 "metadata": {
  "accelerator": "GPU",
  "colab": {
   "collapsed_sections": [],
   "name": "eager.ipynb",
   "toc_visible": true
  },
  "kernelspec": {
   "display_name": "Python 3",
   "language": "python",
   "name": "python3"
  },
  "language_info": {
   "codemirror_mode": {
    "name": "ipython",
    "version": 3
   },
   "file_extension": ".py",
   "mimetype": "text/x-python",
   "name": "python",
   "nbconvert_exporter": "python",
   "pygments_lexer": "ipython3",
   "version": "3.8.5"
  }
 },
 "nbformat": 4,
 "nbformat_minor": 1
}
