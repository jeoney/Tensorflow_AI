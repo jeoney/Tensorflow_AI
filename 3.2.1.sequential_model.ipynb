{
 "cells": [
  {
   "cell_type": "markdown",
   "metadata": {},
   "source": [
    "## 3.2 케라스를 이용한 구현"
   ]
  },
  {
   "cell_type": "markdown",
   "metadata": {
    "id": "ZsYweEXsF1Ut"
   },
   "source": [
    "### Sequential 모델"
   ]
  },
  {
   "cell_type": "code",
   "execution_count": 2,
   "metadata": {
    "execution": {
     "iopub.execute_input": "2020-09-23T04:03:40.237680Z",
     "iopub.status.busy": "2020-09-23T04:03:40.237047Z",
     "iopub.status.idle": "2020-09-23T04:03:46.461327Z",
     "shell.execute_reply": "2020-09-23T04:03:46.460675Z"
    },
    "id": "kPfh5AQ8fFzQ"
   },
   "outputs": [],
   "source": [
    "import tensorflow as tf\n",
    "from tensorflow import keras\n",
    "from tensorflow.keras import layers"
   ]
  },
  {
   "cell_type": "markdown",
   "metadata": {
    "id": "H86UozfTDwPp"
   },
   "source": [
    "### Sequential 모델을 사용하는 경우\n",
    "\n",
    "`Sequential` 모델은 각 레이어에 **정확히 하나의 입력 텐서와 하나의 출력 텐서**가 있는 **일반 레이어 스택**에 적합합니다.\n",
    "\n",
    "개략적으로 다음과 같은 `Sequential` 모델은"
   ]
  },
  {
   "cell_type": "code",
   "execution_count": 5,
   "metadata": {
    "execution": {
     "iopub.execute_input": "2020-09-23T04:03:46.467154Z",
     "iopub.status.busy": "2020-09-23T04:03:46.466465Z",
     "iopub.status.idle": "2020-09-23T04:03:48.519729Z",
     "shell.execute_reply": "2020-09-23T04:03:48.519082Z"
    },
    "id": "ajdypoWBxCFi"
   },
   "outputs": [
    {
     "name": "stdout",
     "output_type": "stream",
     "text": [
      "(3, 4)\n",
      "tf.Tensor(\n",
      "[[0. 0. 0. 0.]\n",
      " [0. 0. 0. 0.]\n",
      " [0. 0. 0. 0.]], shape=(3, 4), dtype=float32)\n"
     ]
    }
   ],
   "source": [
    "model = keras.Sequential(\n",
    "    [\n",
    "        layers.Dense(2, activation=\"relu\", name=\"layer1\"), #맨 앞 param이 뉴런수, w=(3,2), b=(2,)\n",
    "        layers.Dense(3, activation=\"relu\", name=\"layer2\"), # w=(2,3), b=(3,)\n",
    "        layers.Dense(4, name=\"layer3\"),                    #출력층은 affine연산, w=(3,4), b=(4,)\n",
    "    ]\n",
    ")\n",
    "\n",
    "x = tf.ones((3, 3))\n",
    "y = model(x)\n",
    "print(y.shape)\n",
    "print(y)"
   ]
  },
  {
   "cell_type": "markdown",
   "metadata": {
    "id": "m9gUL80fmFFo"
   },
   "source": [
    "다음 함수와 동일합니다."
   ]
  },
  {
   "cell_type": "code",
   "execution_count": 7,
   "metadata": {
    "execution": {
     "iopub.execute_input": "2020-09-23T04:03:48.528191Z",
     "iopub.status.busy": "2020-09-23T04:03:48.527423Z",
     "iopub.status.idle": "2020-09-23T04:03:48.536655Z",
     "shell.execute_reply": "2020-09-23T04:03:48.537091Z"
    },
    "id": "gqksyI6UN0U3"
   },
   "outputs": [
    {
     "name": "stdout",
     "output_type": "stream",
     "text": [
      "(3, 4)\n",
      "tf.Tensor(\n",
      "[[0. 0. 0. 0.]\n",
      " [0. 0. 0. 0.]\n",
      " [0. 0. 0. 0.]], shape=(3, 4), dtype=float32)\n"
     ]
    }
   ],
   "source": [
    "layer1 = layers.Dense(2, activation=\"relu\", name=\"layer1\")\n",
    "layer2 = layers.Dense(3, activation=\"relu\", name=\"layer2\")\n",
    "layer3 = layers.Dense(4, name=\"layer3\")\n",
    "\n",
    "x = tf.ones((3, 3))\n",
    "y = layer3(layer2(layer1(x)))\n",
    "print(y.shape)\n",
    "print(y)"
   ]
  },
  {
   "cell_type": "code",
   "execution_count": 10,
   "metadata": {},
   "outputs": [
    {
     "name": "stdout",
     "output_type": "stream",
     "text": [
      "(3, 4)\n",
      "tf.Tensor(\n",
      "[[-0.04867636 -0.03222826  0.15806258 -0.12221034]\n",
      " [-0.04867636 -0.03222826  0.15806258 -0.12221034]\n",
      " [-0.04867636 -0.03222826  0.15806258 -0.12221034]], shape=(3, 4), dtype=float32)\n"
     ]
    }
   ],
   "source": [
    "layer1 = layers.Dense(2, activation=\"relu\", name=\"layer1\")\n",
    "layer2 = layers.Dense(3, activation=\"relu\", name=\"layer2\")\n",
    "layer3 = layers.Dense(4, name=\"layer3\")\n",
    "\n",
    "x = tf.ones((3, 3))\n",
    "x = layer1(x)\n",
    "x = layer2(x)\n",
    "y = layer3(x)\n",
    "print(y.shape)\n",
    "print(y)"
   ]
  },
  {
   "cell_type": "markdown",
   "metadata": {
    "id": "MqyEgCnQVf4w"
   },
   "source": [
    "Sequential 모델은 다음의 경우에 **적합하지 않습니다**.\n",
    "\n",
    "- 모델에 다중 입력 또는 다중 출력이 있습니다\n",
    "- 레이어에 다중 입력 또는 다중 출력이 있습니다\n",
    "- 레이어 공유를 해야 합니다\n",
    "- 비선형 토폴로지를 원합니다(예: 잔류 연결, 다중 분기 모델)"
   ]
  },
  {
   "cell_type": "markdown",
   "metadata": {
    "id": "sWxFjYzpKzUD"
   },
   "source": [
    "### Sequential 모델 생성하기\n",
    "\n",
    "레이어의 목록을 Sequential 생성자에 전달하여 Sequential 모델을 만들 수 있습니다."
   ]
  },
  {
   "cell_type": "code",
   "execution_count": 11,
   "metadata": {
    "execution": {
     "iopub.execute_input": "2020-09-23T04:03:48.545374Z",
     "iopub.status.busy": "2020-09-23T04:03:48.544679Z",
     "iopub.status.idle": "2020-09-23T04:03:48.549460Z",
     "shell.execute_reply": "2020-09-23T04:03:48.549875Z"
    },
    "id": "itLg7K6qTzVO"
   },
   "outputs": [],
   "source": [
    "model = keras.Sequential(\n",
    "    [\n",
    "        layers.Dense(2, activation=\"relu\"),\n",
    "        layers.Dense(3, activation=\"relu\"),\n",
    "        layers.Dense(4),\n",
    "    ]\n",
    ")"
   ]
  },
  {
   "cell_type": "markdown",
   "metadata": {
    "id": "g3fvbcVmCHEP"
   },
   "source": [
    "속한 레이어는 `layers` 속성을 통해 접근할 수 있습니다."
   ]
  },
  {
   "cell_type": "code",
   "execution_count": 13,
   "metadata": {
    "execution": {
     "iopub.execute_input": "2020-09-23T04:03:48.559195Z",
     "iopub.status.busy": "2020-09-23T04:03:48.558546Z",
     "iopub.status.idle": "2020-09-23T04:03:48.563436Z",
     "shell.execute_reply": "2020-09-23T04:03:48.563975Z"
    },
    "id": "Lwmuasfp5KXs"
   },
   "outputs": [
    {
     "data": {
      "text/plain": [
       "[<tensorflow.python.keras.layers.core.Dense at 0x2b31b80fd30>,\n",
       " <tensorflow.python.keras.layers.core.Dense at 0x2b324b50430>,\n",
       " <tensorflow.python.keras.layers.core.Dense at 0x2b324b613a0>]"
      ]
     },
     "execution_count": 13,
     "metadata": {},
     "output_type": "execute_result"
    }
   ],
   "source": [
    "model.layers"
   ]
  },
  {
   "cell_type": "markdown",
   "metadata": {
    "id": "qVNQRoWqJ3PY"
   },
   "source": [
    "`add()` 메서드를 통해 Sequential 모델을 점진적으로 작성할 수도 있습니다."
   ]
  },
  {
   "cell_type": "code",
   "execution_count": 14,
   "metadata": {
    "execution": {
     "iopub.execute_input": "2020-09-23T04:03:48.570264Z",
     "iopub.status.busy": "2020-09-23T04:03:48.569611Z",
     "iopub.status.idle": "2020-09-23T04:03:48.576262Z",
     "shell.execute_reply": "2020-09-23T04:03:48.576678Z"
    },
    "id": "2TD4yRflSEv6"
   },
   "outputs": [],
   "source": [
    "model = keras.Sequential()\n",
    "model.add(layers.Dense(2, activation=\"relu\")) #layer를 이후에 추가할 수도 있음\n",
    "model.add(layers.Dense(3, activation=\"relu\"))\n",
    "model.add(layers.Dense(4))"
   ]
  },
  {
   "cell_type": "markdown",
   "metadata": {
    "id": "PmunUrP7HhMI"
   },
   "source": [
    "레이어를 제거하는 `pop()` 메서드도 있습니다. Sequential 모델은 레이어의 리스트와 매우 유사하게 동작합니다."
   ]
  },
  {
   "cell_type": "code",
   "execution_count": 15,
   "metadata": {
    "execution": {
     "iopub.execute_input": "2020-09-23T04:03:48.580678Z",
     "iopub.status.busy": "2020-09-23T04:03:48.580032Z",
     "iopub.status.idle": "2020-09-23T04:03:48.582916Z",
     "shell.execute_reply": "2020-09-23T04:03:48.582424Z"
    },
    "id": "6INo3oxSLUbA"
   },
   "outputs": [
    {
     "name": "stdout",
     "output_type": "stream",
     "text": [
      "2\n"
     ]
    }
   ],
   "source": [
    "model.pop()\n",
    "print(len(model.layers))  "
   ]
  },
  {
   "cell_type": "markdown",
   "metadata": {
    "id": "AAvcsRrOxQ9W"
   },
   "source": [
    "또한 Sequential 생성자는 Keras의 모든 레이어 또는 모델과 마찬가지로 `name` 인수를 허용합니다. 이것은 의미론적으로 유의미한 이름으로 TensorBoard 그래프에 주석을 달 때 유용합니다."
   ]
  },
  {
   "cell_type": "code",
   "execution_count": 16,
   "metadata": {
    "execution": {
     "iopub.execute_input": "2020-09-23T04:03:48.589100Z",
     "iopub.status.busy": "2020-09-23T04:03:48.588477Z",
     "iopub.status.idle": "2020-09-23T04:03:48.595572Z",
     "shell.execute_reply": "2020-09-23T04:03:48.594982Z"
    },
    "id": "s8oN1kMYqSuD"
   },
   "outputs": [],
   "source": [
    "model = keras.Sequential(name=\"my_sequential\")\n",
    "model.add(layers.Dense(2, activation=\"relu\", name=\"layer1\"))\n",
    "model.add(layers.Dense(3, activation=\"relu\", name=\"layer2\"))\n",
    "model.add(layers.Dense(4, name=\"layer3\"))"
   ]
  },
  {
   "cell_type": "markdown",
   "metadata": {
    "id": "PqGh2rmljliN"
   },
   "source": [
    "### 미리 입력 형상 지정하기\n",
    "\n",
    "일반적으로 Keras의 모든 레이어는 가중치를 만들려면 입력의 형상을 알아야 합니다. 따라서 다음과 같은 레이어를 만들면 처음에는 가중치가 없습니다."
   ]
  },
  {
   "cell_type": "code",
   "execution_count": 19,
   "metadata": {
    "execution": {
     "iopub.execute_input": "2020-09-23T04:03:48.600433Z",
     "iopub.status.busy": "2020-09-23T04:03:48.599753Z",
     "iopub.status.idle": "2020-09-23T04:03:48.602724Z",
     "shell.execute_reply": "2020-09-23T04:03:48.602137Z"
    },
    "id": "tW04KX032Ol9"
   },
   "outputs": [
    {
     "data": {
      "text/plain": [
       "[]"
      ]
     },
     "execution_count": 19,
     "metadata": {},
     "output_type": "execute_result"
    }
   ],
   "source": [
    "layer = layers.Dense(3)\n",
    "layer.weights"
   ]
  },
  {
   "cell_type": "markdown",
   "metadata": {
    "id": "NU0Ai9lbGUKA"
   },
   "source": [
    "가중치는 모양이 입력의 형상에 따라 달라지기 때문에 입력에서 처음 호출될 때 가중치를 만듭니다."
   ]
  },
  {
   "cell_type": "code",
   "execution_count": 20,
   "metadata": {
    "execution": {
     "iopub.execute_input": "2020-09-23T04:03:48.607253Z",
     "iopub.status.busy": "2020-09-23T04:03:48.606637Z",
     "iopub.status.idle": "2020-09-23T04:03:48.613627Z",
     "shell.execute_reply": "2020-09-23T04:03:48.613049Z"
    },
    "id": "OqSj1TLCU1vH"
   },
   "outputs": [
    {
     "data": {
      "text/plain": [
       "[<tf.Variable 'dense_8/kernel:0' shape=(4, 3) dtype=float32, numpy=\n",
       " array([[-0.03921849, -0.92059934, -0.57831067],\n",
       "        [ 0.10424924,  0.51020956, -0.8262407 ],\n",
       "        [-0.29044718,  0.80951273,  0.1645801 ],\n",
       "        [-0.5329691 ,  0.79983604,  0.2861731 ]], dtype=float32)>,\n",
       " <tf.Variable 'dense_8/bias:0' shape=(3,) dtype=float32, numpy=array([0., 0., 0.], dtype=float32)>]"
      ]
     },
     "execution_count": 20,
     "metadata": {},
     "output_type": "execute_result"
    }
   ],
   "source": [
    "x = tf.ones((1, 4))\n",
    "y = layer(x)\n",
    "layer.weights  "
   ]
  },
  {
   "cell_type": "markdown",
   "metadata": {
    "id": "CDF0sLoVrGdU"
   },
   "source": [
    "당연히 이것은 Sequential 모델에도 적용됩니다. 입력 형상이 없는 Sequential 모델을 인스턴스화할 때는 \"빌드\"되지 않습니다. 가중치가 없습니다(그리고 `model.weights`를 호출하면 오류가 발생함). 모델에 처음 입력 데이터가 표시되면 가중치가 생성됩니다."
   ]
  },
  {
   "cell_type": "code",
   "execution_count": 22,
   "metadata": {
    "execution": {
     "iopub.execute_input": "2020-09-23T04:03:48.621884Z",
     "iopub.status.busy": "2020-09-23T04:03:48.621259Z",
     "iopub.status.idle": "2020-09-23T04:03:48.645022Z",
     "shell.execute_reply": "2020-09-23T04:03:48.644432Z"
    },
    "id": "ovoPw8Ncbevb"
   },
   "outputs": [
    {
     "name": "stdout",
     "output_type": "stream",
     "text": [
      "[<tf.Variable 'dense_12/kernel:0' shape=(4, 2) dtype=float32, numpy=\n",
      "array([[-8.6328173e-01, -9.2067456e-01],\n",
      "       [-1.4947653e-02, -8.8691711e-05],\n",
      "       [ 8.9718437e-01, -4.0868521e-02],\n",
      "       [-6.9934249e-01, -2.0029974e-01]], dtype=float32)>, <tf.Variable 'dense_12/bias:0' shape=(2,) dtype=float32, numpy=array([0., 0.], dtype=float32)>, <tf.Variable 'dense_13/kernel:0' shape=(2, 3) dtype=float32, numpy=\n",
      "array([[-0.9670933 , -1.0155296 ,  0.03211248],\n",
      "       [ 0.36173737,  0.94941545, -0.91425586]], dtype=float32)>, <tf.Variable 'dense_13/bias:0' shape=(3,) dtype=float32, numpy=array([0., 0., 0.], dtype=float32)>, <tf.Variable 'dense_14/kernel:0' shape=(3, 4) dtype=float32, numpy=\n",
      "array([[ 0.8878567 , -0.90674067,  0.09550548, -0.82324696],\n",
      "       [ 0.46244228,  0.4841107 , -0.44089043,  0.7482898 ],\n",
      "       [ 0.00936681,  0.15715003,  0.45346177, -0.17437685]],\n",
      "      dtype=float32)>, <tf.Variable 'dense_14/bias:0' shape=(4,) dtype=float32, numpy=array([0., 0., 0., 0.], dtype=float32)>]\n",
      "Number of weights after calling the model: 6\n"
     ]
    }
   ],
   "source": [
    "model = keras.Sequential(\n",
    "    [\n",
    "        layers.Dense(2, activation=\"relu\"), #(1,4)(4,2) = (1,2)\n",
    "        layers.Dense(3, activation=\"relu\"), #(1,2)(2,3 = (1,3))\n",
    "        layers.Dense(4),                    #(1,3)(3,4) = (1,4)\n",
    "    ]\n",
    ")  \n",
    "\n",
    "x = tf.ones((1, 4))\n",
    "y = model(x)\n",
    "print(model.weights)\n",
    "print(\"Number of weights after calling the model:\", len(model.weights))  # 6"
   ]
  },
  {
   "cell_type": "markdown",
   "metadata": {
    "id": "laWJparrJg70"
   },
   "source": [
    "모델이 \"빌드\"되면, 그 내용을 표시하기 위해 `summary()` 메서드를 호출할 수 있습니다."
   ]
  },
  {
   "cell_type": "code",
   "execution_count": 23,
   "metadata": {
    "execution": {
     "iopub.execute_input": "2020-09-23T04:03:48.649365Z",
     "iopub.status.busy": "2020-09-23T04:03:48.648547Z",
     "iopub.status.idle": "2020-09-23T04:03:48.651650Z",
     "shell.execute_reply": "2020-09-23T04:03:48.652098Z"
    },
    "id": "mY2X9QbgabHu"
   },
   "outputs": [
    {
     "name": "stdout",
     "output_type": "stream",
     "text": [
      "Model: \"sequential_6\"\n",
      "_________________________________________________________________\n",
      "Layer (type)                 Output Shape              Param #   \n",
      "=================================================================\n",
      "dense_12 (Dense)             (1, 2)                    10        \n",
      "_________________________________________________________________\n",
      "dense_13 (Dense)             (1, 3)                    9         \n",
      "_________________________________________________________________\n",
      "dense_14 (Dense)             (1, 4)                    16        \n",
      "=================================================================\n",
      "Total params: 35\n",
      "Trainable params: 35\n",
      "Non-trainable params: 0\n",
      "_________________________________________________________________\n"
     ]
    }
   ],
   "source": [
    "model.summary()"
   ]
  },
  {
   "cell_type": "markdown",
   "metadata": {
    "id": "1ZDoaIHvwSmw"
   },
   "source": [
    "그러나 현재 출력 형상을 포함하여 지금까지 모델의 요약을 표시할 수 있도록 Sequential 모델을 점진적으로 빌드할 때 매우 유용할 수 있습니다. 이 경우 `Input` 객체를 모델에 전달하여 모델의 시작 형상을 알 수 있도록 모델을 시작해야 합니다."
   ]
  },
  {
   "cell_type": "code",
   "execution_count": 25,
   "metadata": {
    "execution": {
     "iopub.execute_input": "2020-09-23T04:03:48.658042Z",
     "iopub.status.busy": "2020-09-23T04:03:48.657423Z",
     "iopub.status.idle": "2020-09-23T04:03:48.671130Z",
     "shell.execute_reply": "2020-09-23T04:03:48.670522Z"
    },
    "id": "Wv9HeHEeCKAG"
   },
   "outputs": [
    {
     "name": "stdout",
     "output_type": "stream",
     "text": [
      "Model: \"sequential_8\"\n",
      "_________________________________________________________________\n",
      "Layer (type)                 Output Shape              Param #   \n",
      "=================================================================\n",
      "dense_16 (Dense)             (None, 2)                 10        \n",
      "=================================================================\n",
      "Total params: 10\n",
      "Trainable params: 10\n",
      "Non-trainable params: 0\n",
      "_________________________________________________________________\n"
     ]
    }
   ],
   "source": [
    "model = keras.Sequential()\n",
    "model.add(keras.Input(shape=(4,)))               #(?,4)\n",
    "model.add(layers.Dense(2, activation=\"relu\"))    #(?,4)(4,2) => (?,2) param=10\n",
    "\n",
    "model.summary()"
   ]
  },
  {
   "cell_type": "markdown",
   "metadata": {
    "id": "4rhwhV0mpu6m"
   },
   "source": [
    "`Input` 객체는 레이어가 아니므로 `model.layers`의 일부로 표시되지 않습니다."
   ]
  },
  {
   "cell_type": "code",
   "execution_count": 16,
   "metadata": {
    "execution": {
     "iopub.execute_input": "2020-09-23T04:03:48.675382Z",
     "iopub.status.busy": "2020-09-23T04:03:48.674759Z",
     "iopub.status.idle": "2020-09-23T04:03:48.677974Z",
     "shell.execute_reply": "2020-09-23T04:03:48.677408Z"
    },
    "id": "oCwEwMoy1B0A"
   },
   "outputs": [
    {
     "data": {
      "text/plain": [
       "[<tensorflow.python.keras.layers.core.Dense at 0x26614b47b80>]"
      ]
     },
     "execution_count": 16,
     "metadata": {},
     "output_type": "execute_result"
    }
   ],
   "source": [
    "model.layers"
   ]
  },
  {
   "cell_type": "markdown",
   "metadata": {
    "id": "xcKk9VmVY9of"
   },
   "source": [
    "간단한 대안은 첫 번째 레이어에 `input_shape` 인수를 전달하는 것입니다."
   ]
  },
  {
   "cell_type": "code",
   "execution_count": 26,
   "metadata": {
    "execution": {
     "iopub.execute_input": "2020-09-23T04:03:48.684182Z",
     "iopub.status.busy": "2020-09-23T04:03:48.683418Z",
     "iopub.status.idle": "2020-09-23T04:03:48.697717Z",
     "shell.execute_reply": "2020-09-23T04:03:48.697218Z"
    },
    "id": "FMe4x1CMP75N"
   },
   "outputs": [
    {
     "name": "stdout",
     "output_type": "stream",
     "text": [
      "Model: \"sequential_9\"\n",
      "_________________________________________________________________\n",
      "Layer (type)                 Output Shape              Param #   \n",
      "=================================================================\n",
      "dense_17 (Dense)             (None, 2)                 10        \n",
      "=================================================================\n",
      "Total params: 10\n",
      "Trainable params: 10\n",
      "Non-trainable params: 0\n",
      "_________________________________________________________________\n"
     ]
    }
   ],
   "source": [
    "model = keras.Sequential()\n",
    "model.add(layers.Dense(2, activation=\"relu\", input_shape=(4,))) # (None,4)(4,2) = (None,2) param=10\n",
    "\n",
    "model.summary()"
   ]
  },
  {
   "cell_type": "markdown",
   "metadata": {
    "id": "E8lMCSByqIqP"
   },
   "source": [
    "이처럼 사전 정의된 입력 모양으로 빌드된 모델은 항상 가중치를 가지며(데이터를 보기 전에도) 항상 정의된 출력 형상을 갖습니다.\n",
    "\n",
    "일반적으로 Sequential 모델의 입력 형상을 알고 있는 경우 항상 Sequential 모델의 입력 형상을 지정하는 것이 좋습니다."
   ]
  }
 ],
 "metadata": {
  "colab": {
   "collapsed_sections": [],
   "name": "sequential_model.ipynb",
   "toc_visible": true
  },
  "kernelspec": {
   "display_name": "Python 3",
   "language": "python",
   "name": "python3"
  },
  "language_info": {
   "codemirror_mode": {
    "name": "ipython",
    "version": 3
   },
   "file_extension": ".py",
   "mimetype": "text/x-python",
   "name": "python",
   "nbconvert_exporter": "python",
   "pygments_lexer": "ipython3",
   "version": "3.8.5"
  }
 },
 "nbformat": 4,
 "nbformat_minor": 1
}
